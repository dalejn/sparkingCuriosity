{
 "cells": [
  {
   "cell_type": "code",
   "execution_count": null,
   "id": "a0df6b80-19ba-4156-8c4d-9300880c11cb",
   "metadata": {},
   "outputs": [],
   "source": [
    "library(devtools)\n",
    "devtools::install_local('/home/jovyan/gganimate-0.1.1.tar.gz')\n",
    "devtools::install_local('/home/jovyan/ggraph-d15fd149babe9ad32316474b9a178e019f376ba6.zip')\n",
    "library(gganimate)\n",
    "library(ggraph)\n",
    "library(igraph)\n",
    "library(RColorBrewer)"
   ]
  },
  {
   "cell_type": "code",
   "execution_count": null,
   "id": "b4e87fb8-b58e-4309-adfc-2a7cfe9afbd8",
   "metadata": {},
   "outputs": [],
   "source": [
    "# Data from http://konect.uni-koblenz.de/networks/sociopatterns-infectious\n",
    "#infect <- read.table('/Users/dalezhou/Downloads/sociopatterns-infectious/out.sociopatterns-infectious', skip = 2, sep = ' ', stringsAsFactors = FALSE)\n",
    "\n",
    "# Code from https://gist.github.com/thomasp85/eee48b065ff454e390e1\n",
    "# https://gist.github.com/jalapic/612036977d9f9c773107681bc4a46d58\n",
    "\n",
    "#infect <- read.table('/home/jovyan/networkDynamics.txt', skip = 0, sep = ' ', stringsAsFactors = FALSE)\n",
    "infect <- read.table('/home/jovyan/networkDynamicsLabels.txt', skip = 0, sep = ' ', stringsAsFactors = FALSE)\n",
    "infect$V3 <- NULL \n",
    "#infect$words <- words$V2\n",
    "names(infect) <- c('from', 'to', 'time')\n",
    "infect$timebins <- as.numeric(cut(infect$time, breaks = 500))\n",
    "\n",
    "# We want that nice fading effect so we need to add extra data for the trailing\n",
    "infectAnim <- lapply(1:10, function(i) {infect$timebins  <- infect$timebins + i; infect$delay <- i; infect})\n",
    "infect$delay <- 0\n",
    "infectAnim <- rbind(infect, do.call(rbind, infectAnim))\n",
    "\n",
    "infectGraph <- graph_from_data_frame(infectAnim, directed = F)\n",
    "\n",
    "# We use only original data for the layout\n",
    "subGr <- subgraph.edges(infectGraph, which(E(infectGraph)$delay == 0))\n",
    "V(subGr)$degree <- degree(subGr)\n",
    "V(subGr)$group <- cluster_louvain(subGr)$membership\n",
    "lay <- createLayout(subGr, 'igraph', algorithm = 'fr')\n",
    "\n",
    "# Then we reassign the full graph with edge trails\n",
    "attr(lay, 'graph') <- infectGraph\n",
    "\n",
    "# Now we create the graph with timebins as frame\n",
    "p <- ggraph(data = lay, layout = 'fr', aes(frame = timebins)) + \n",
    "  geom_node_point(size = .1, col = \"white\") +\n",
    "  geom_node_point(aes(alpha=0.6), size = .1, colour = factor(lay$group), show.legend = FALSE) + \n",
    "  # geom_edge_link0(aes(frame = timebins, alpha = delay, width = delay), edge_colour = '#dccf9f') + \n",
    "  geom_edge_link0(aes(frame = timebins, alpha = delay, width = delay, colour = factor(node1.group)), data = gEdges(nodePar = 'group'), show.legend = FALSE) +\n",
    "  # geom_edge_link0(aes(frame = timebins, alpha = delay, width = delay, colour = node1.degree), data = gEdges(nodePar = 'degree'), show.legend = FALSE) +\n",
    "  scale_edge_alpha(range = c(1, 0), guide = 'none') + \n",
    "  scale_edge_width(range = c(0.5, 1.5), trans = 'exp', guide = 'none') + \n",
    "  scale_size(guide = 'none') + \n",
    "  expand_limits(x = c(min(lay$x), max(lay$x)), y = c(min(lay$y), max(lay$y))) +\n",
    "  ggforce::theme_no_axes() + \n",
    "  theme(plot.background = element_rect(fill = '#000000'), \n",
    "        panel.background = element_blank(), \n",
    "        panel.border = element_blank(), \n",
    "        plot.title = element_text(color = '#cecece'))\n",
    "\n",
    "infect"
   ]
  },
  {
   "cell_type": "code",
   "execution_count": null,
   "id": "049bdcfe-7af0-4876-8f4b-fee828c265ab",
   "metadata": {},
   "outputs": [],
   "source": [
    "# Note if the animation surpasses the memory usage of the notebook, it will crash.\n",
    "# reduce memory by changing image size, image resolution, making network smaller, \n",
    "# changing interval, and/or changing breaks\n",
    "\n",
    "# And then we animate\n",
    "animation::ani.options(interval=0.1)\n",
    "# gganimate(p, '/Users/dalezhou/Desktop/Dropbox/service/kamenArt/animation_louvainNodes_coloredSparks_500.gif', title_frame = FALSE)\n",
    "gganim <- gganimate(p, '/home/jovyan/sparkingCuriosity_1600x1600_darkBlue.gif', title_frame = FALSE,\n",
    "         ani.width = 300, ani.height = 300, res=300)\n"
   ]
  }
 ],
 "metadata": {
  "kernelspec": {
   "display_name": "R",
   "language": "R",
   "name": "ir"
  },
  "language_info": {
   "codemirror_mode": "r",
   "file_extension": ".r",
   "mimetype": "text/x-r-source",
   "name": "R",
   "pygments_lexer": "r",
   "version": "4.0.2"
  }
 },
 "nbformat": 4,
 "nbformat_minor": 5
}
